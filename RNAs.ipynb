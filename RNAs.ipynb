{
  "nbformat": 4,
  "nbformat_minor": 0,
  "metadata": {
    "colab": {
      "provenance": [],
      "authorship_tag": "ABX9TyNKoel0o5vIbMRbn8uxPQG4",
      "include_colab_link": true
    },
    "kernelspec": {
      "name": "python3",
      "display_name": "Python 3"
    },
    "language_info": {
      "name": "python"
    }
  },
  "cells": [
    {
      "cell_type": "markdown",
      "metadata": {
        "id": "view-in-github",
        "colab_type": "text"
      },
      "source": [
        "<a href=\"https://colab.research.google.com/github/MarceloZanguettin/RNA/blob/main/RNAs.ipynb\" target=\"_parent\"><img src=\"https://colab.research.google.com/assets/colab-badge.svg\" alt=\"Open In Colab\"/></a>"
      ]
    },
    {
      "cell_type": "markdown",
      "source": [
        "Desmitificar as RNAs"
      ],
      "metadata": {
        "id": "6mQj9W492H-c"
      }
    },
    {
      "cell_type": "code",
      "execution_count": null,
      "metadata": {
        "colab": {
          "base_uri": "https://localhost:8080/",
          "height": 235
        },
        "id": "qCoQC-Ul2B0x",
        "outputId": "555a27c6-50b9-49d4-f375-adb0c24720cd"
      },
      "outputs": [
        {
          "output_type": "error",
          "ename": "NameError",
          "evalue": "ignored",
          "traceback": [
            "\u001b[0;31m---------------------------------------------------------------------------\u001b[0m",
            "\u001b[0;31mNameError\u001b[0m                                 Traceback (most recent call last)",
            "\u001b[0;32m<ipython-input-1-382e73a33768>\u001b[0m in \u001b[0;36m<module>\u001b[0;34m\u001b[0m\n\u001b[1;32m      1\u001b[0m \u001b[0;31m# Função de ativação\u001b[0m\u001b[0;34m\u001b[0m\u001b[0;34m\u001b[0m\u001b[0;34m\u001b[0m\u001b[0m\n\u001b[1;32m      2\u001b[0m \u001b[0;31m# bias = -1\u001b[0m\u001b[0;34m\u001b[0m\u001b[0;34m\u001b[0m\u001b[0;34m\u001b[0m\u001b[0m\n\u001b[0;32m----> 3\u001b[0;31m \u001b[0mactivation\u001b[0m \u001b[0;34m=\u001b[0m \u001b[0msum\u001b[0m\u001b[0;34m(\u001b[0m\u001b[0mweight_i\u001b[0m \u001b[0;34m*\u001b[0m \u001b[0mx_1\u001b[0m\u001b[0;34m)\u001b[0m \u001b[0;34m+\u001b[0m \u001b[0mbias\u001b[0m\u001b[0;34m\u001b[0m\u001b[0;34m\u001b[0m\u001b[0m\n\u001b[0m\u001b[1;32m      4\u001b[0m \u001b[0;34m\u001b[0m\u001b[0m\n\u001b[1;32m      5\u001b[0m \u001b[0;31m# Predição\u001b[0m\u001b[0;34m\u001b[0m\u001b[0;34m\u001b[0m\u001b[0;34m\u001b[0m\u001b[0m\n",
            "\u001b[0;31mNameError\u001b[0m: name 'weight_i' is not defined"
          ]
        }
      ],
      "source": [
        "# Função de ativação\n",
        "# bias = -1\n",
        "activation = sum(weight_i * x_1) + bias\n",
        "\n",
        "# Predição\n",
        "prediction = 1.0 if activision >= 0.0 else 0.0\n",
        "\n",
        "# Ajuste de pesos\n",
        "w = w + learning_rate * (expected - predicted) * x"
      ]
    },
    {
      "cell_type": "code",
      "source": [
        "# Predição feita por um neuronio\n",
        "def predict(row, weights):\n",
        "    activation = weights[0]\n",
        "    for i in range (len(row)-1):\n",
        "        activation += weights[i+1]*row[i]\n",
        "    return 1.0 if activation >= 0.0 else 0.0"
      ],
      "metadata": {
        "id": "Z4hOHewj4eyo"
      },
      "execution_count": null,
      "outputs": []
    },
    {
      "cell_type": "code",
      "source": [
        "# data set\n",
        "dataset = [\n",
        "    [2.7, 2.55, 0],\n",
        "    [5.33, 2.08, 1],\n",
        "    [7.62, 2.75, 1]\n",
        "]"
      ],
      "metadata": {
        "id": "jfyuqmQ36QBV"
      },
      "execution_count": null,
      "outputs": []
    },
    {
      "cell_type": "code",
      "source": [
        "weights = [-0.1, 0.20, -0.23]"
      ],
      "metadata": {
        "id": "6vh4NXcz6nWF"
      },
      "execution_count": null,
      "outputs": []
    },
    {
      "cell_type": "code",
      "source": [
        "# Função para predição \n",
        "for row in dataset:\n",
        "    prediction = predict(row, weights)\n",
        "    print(\"Esperado: \", row[-1], \"Predito: \", prediction)"
      ],
      "metadata": {
        "colab": {
          "base_uri": "https://localhost:8080/"
        },
        "id": "ZtVg636x6wbR",
        "outputId": "a2df64ad-96e8-491b-84cf-ca381f0f678e"
      },
      "execution_count": null,
      "outputs": [
        {
          "output_type": "stream",
          "name": "stdout",
          "text": [
            "Esperado:  0 Predito:  0.0\n",
            "Esperado:  1 Predito:  1.0\n",
            "Esperado:  1 Predito:  1.0\n"
          ]
        }
      ]
    }
  ]
}